{
 "cells": [
  {
   "cell_type": "code",
   "execution_count": 1,
   "id": "06c2aac9",
   "metadata": {},
   "outputs": [],
   "source": [
    "from pyspark.sql import SparkSession\n",
    "from pyspark.ml.feature import Imputer\n",
    "from pyspark.sql.functions import col, udf, length, regexp_replace\n",
    "from pyspark.sql.types import StringType, StructType, StructField, FloatType, IntegerType\n",
    "import pymongo\n",
    "import requests\n",
    "import spacy\n",
    "import json\n",
    "import pandas as pd\n",
    "import sys"
   ]
  },
  {
   "cell_type": "code",
   "execution_count": 2,
   "id": "4603b04e",
   "metadata": {},
   "outputs": [],
   "source": [
    "# import the connecting credentials \n",
    "sys.path.append('../')\n",
    "from secret import credentials\n",
    "sys.path.remove('../')"
   ]
  },
  {
   "cell_type": "code",
   "execution_count": 3,
   "id": "be715f20",
   "metadata": {},
   "outputs": [],
   "source": [
    "sec = credentials()"
   ]
  },
  {
   "cell_type": "code",
   "execution_count": 4,
   "id": "95022ec6",
   "metadata": {},
   "outputs": [],
   "source": [
    "# Replace with the version of the connector that matches your Spark version\n",
    "connector_package = \"org.mongodb.spark:mongo-spark-connector_2.12:3.0.1\""
   ]
  },
  {
   "cell_type": "code",
   "execution_count": 5,
   "id": "5e85d339",
   "metadata": {},
   "outputs": [
    {
     "name": "stdout",
     "output_type": "stream",
     "text": [
      ":: loading settings :: url = jar:file:/opt/conda/envs/csgy-6513d-fall2023/lib/python3.9/site-packages/pyspark/jars/ivy-2.5.1.jar!/org/apache/ivy/core/settings/ivysettings.xml\n"
     ]
    },
    {
     "name": "stderr",
     "output_type": "stream",
     "text": [
      "Ivy Default Cache set to: /home/jovyan/.ivy2/cache\n",
      "The jars for the packages stored in: /home/jovyan/.ivy2/jars\n",
      "org.mongodb.spark#mongo-spark-connector_2.12 added as a dependency\n",
      ":: resolving dependencies :: org.apache.spark#spark-submit-parent-cdc99772-462e-48f7-ad75-dd8f205b690a;1.0\n",
      "\tconfs: [default]\n",
      "\tfound org.mongodb.spark#mongo-spark-connector_2.12;3.0.1 in central\n",
      "\tfound org.mongodb#mongodb-driver-sync;4.0.5 in central\n",
      "\tfound org.mongodb#bson;4.0.5 in central\n",
      "\tfound org.mongodb#mongodb-driver-core;4.0.5 in central\n",
      ":: resolution report :: resolve 480ms :: artifacts dl 15ms\n",
      "\t:: modules in use:\n",
      "\torg.mongodb#bson;4.0.5 from central in [default]\n",
      "\torg.mongodb#mongodb-driver-core;4.0.5 from central in [default]\n",
      "\torg.mongodb#mongodb-driver-sync;4.0.5 from central in [default]\n",
      "\torg.mongodb.spark#mongo-spark-connector_2.12;3.0.1 from central in [default]\n",
      "\t---------------------------------------------------------------------\n",
      "\t|                  |            modules            ||   artifacts   |\n",
      "\t|       conf       | number| search|dwnlded|evicted|| number|dwnlded|\n",
      "\t---------------------------------------------------------------------\n",
      "\t|      default     |   4   |   0   |   0   |   0   ||   4   |   0   |\n",
      "\t---------------------------------------------------------------------\n",
      ":: retrieving :: org.apache.spark#spark-submit-parent-cdc99772-462e-48f7-ad75-dd8f205b690a\n",
      "\tconfs: [default]\n",
      "\t0 artifacts copied, 4 already retrieved (0kB/16ms)\n",
      "23/11/29 20:01:00 WARN NativeCodeLoader: Unable to load native-hadoop library for your platform... using builtin-java classes where applicable\n",
      "Setting default log level to \"WARN\".\n",
      "To adjust logging level use sc.setLogLevel(newLevel). For SparkR, use setLogLevel(newLevel).\n",
      "23/11/29 20:01:17 WARN GarbageCollectionMetrics: To enable non-built-in garbage collector(s) List(G1 Concurrent GC), users should configure it(them) to spark.eventLog.gcMetrics.youngGenerationGarbageCollectors or spark.eventLog.gcMetrics.oldGenerationGarbageCollectors\n"
     ]
    }
   ],
   "source": [
    "# Create a SparkSession. Ensure you have the mongo-spark-connector included.\n",
    "spark = SparkSession \\\n",
    "    .builder \\\n",
    "    .appName(\"etl\") \\\n",
    "    .config(\"spark.mongodb.read.connection.uri\", sec.connect_string) \\\n",
    "    .config(\"spark.mongodb.write.connection.uri\", sec.connect_string) \\\n",
    "    .config(\"spark.jars.packages\", connector_package) \\\n",
    "    .getOrCreate()"
   ]
  },
  {
   "cell_type": "code",
   "execution_count": 6,
   "id": "3e0c0b46",
   "metadata": {},
   "outputs": [
    {
     "name": "stderr",
     "output_type": "stream",
     "text": [
      "                                                                                \r"
     ]
    }
   ],
   "source": [
    "# books = spark.read.option('header','True').csv('../data/Books.csv', inferSchema = True)\n",
    "# ratings = spark.read.option('header','True').csv('../data/Ratings.csv', inferSchema = True)\n",
    "users = spark.read.csv('../data/Users.csv', header = True ,inferSchema = True)"
   ]
  },
  {
   "cell_type": "code",
   "execution_count": 7,
   "id": "8becd3c0",
   "metadata": {},
   "outputs": [
    {
     "name": "stdout",
     "output_type": "stream",
     "text": [
      "+-------+--------------------+----+\n",
      "|User-ID|            Location| Age|\n",
      "+-------+--------------------+----+\n",
      "|      1|  nyc, new york, usa|NULL|\n",
      "|      2|stockton, califor...|18.0|\n",
      "|      3|moscow, yukon ter...|NULL|\n",
      "|      4|porto, v.n.gaia, ...|17.0|\n",
      "|      5|farnborough, hant...|NULL|\n",
      "|      6|santa monica, cal...|61.0|\n",
      "|      7| washington, dc, usa|NULL|\n",
      "|      8|timmins, ontario,...|NULL|\n",
      "|      9|germantown, tenne...|NULL|\n",
      "|     10|albacete, wiscons...|26.0|\n",
      "|     11|melbourne, victor...|14.0|\n",
      "|     12|fort bragg, calif...|NULL|\n",
      "|     13|barcelona, barcel...|26.0|\n",
      "|     14|mediapolis, iowa,...|NULL|\n",
      "|     15|calgary, alberta,...|NULL|\n",
      "|     16|albuquerque, new ...|NULL|\n",
      "|     17|chesapeake, virgi...|NULL|\n",
      "|     18|rio de janeiro, r...|25.0|\n",
      "|     19|           weston, ,|14.0|\n",
      "|     20|langhorne, pennsy...|19.0|\n",
      "+-------+--------------------+----+\n",
      "only showing top 20 rows\n",
      "\n"
     ]
    }
   ],
   "source": [
    "users.show()"
   ]
  },
  {
   "cell_type": "code",
   "execution_count": 8,
   "id": "fa8af631",
   "metadata": {},
   "outputs": [
    {
     "name": "stdout",
     "output_type": "stream",
     "text": [
      "root\n",
      " |-- User-ID: integer (nullable = true)\n",
      " |-- Location: string (nullable = true)\n",
      " |-- Age: string (nullable = true)\n",
      "\n"
     ]
    }
   ],
   "source": [
    "users.printSchema()"
   ]
  },
  {
   "cell_type": "markdown",
   "id": "3ee67d64",
   "metadata": {},
   "source": [
    "## Data preprocessing "
   ]
  },
  {
   "cell_type": "code",
   "execution_count": 9,
   "id": "184dadb3",
   "metadata": {},
   "outputs": [],
   "source": [
    "def get_country(location):\n",
    "    return location.strip().split(',')[-1].strip()\n",
    "\n",
    "def get_city(location):\n",
    "    return location.strip().split(',')[0].strip()\n"
   ]
  },
  {
   "cell_type": "code",
   "execution_count": 10,
   "id": "cc609918",
   "metadata": {},
   "outputs": [],
   "source": [
    "# Register UDF\n",
    "get_country_udf = udf(get_country, StringType())\n",
    "\n",
    "get_city_udf = udf(get_city, StringType())\n",
    "\n"
   ]
  },
  {
   "cell_type": "code",
   "execution_count": 11,
   "id": "e867c3e8",
   "metadata": {},
   "outputs": [],
   "source": [
    "# Apply UDF to DataFrame\n",
    "\n",
    "users = users.withColumn('country', get_country_udf(col('Location')))\n",
    "\n",
    "users = users.withColumn('city', get_city_udf(col('Location')))\n",
    "\n"
   ]
  },
  {
   "cell_type": "code",
   "execution_count": 12,
   "id": "59748121",
   "metadata": {},
   "outputs": [
    {
     "name": "stderr",
     "output_type": "stream",
     "text": [
      "[Stage 3:>                                                          (0 + 1) / 1]\r"
     ]
    },
    {
     "name": "stdout",
     "output_type": "stream",
     "text": [
      "+-------+--------------------+----+--------------+--------------+\n",
      "|User-ID|            Location| Age|       country|          city|\n",
      "+-------+--------------------+----+--------------+--------------+\n",
      "|      1|  nyc, new york, usa|NULL|           usa|           nyc|\n",
      "|      2|stockton, califor...|18.0|           usa|      stockton|\n",
      "|      3|moscow, yukon ter...|NULL|        russia|        moscow|\n",
      "|      4|porto, v.n.gaia, ...|17.0|      portugal|         porto|\n",
      "|      5|farnborough, hant...|NULL|united kingdom|   farnborough|\n",
      "|      6|santa monica, cal...|61.0|           usa|  santa monica|\n",
      "|      7| washington, dc, usa|NULL|           usa|    washington|\n",
      "|      8|timmins, ontario,...|NULL|        canada|       timmins|\n",
      "|      9|germantown, tenne...|NULL|           usa|    germantown|\n",
      "|     10|albacete, wiscons...|26.0|         spain|      albacete|\n",
      "|     11|melbourne, victor...|14.0|     australia|     melbourne|\n",
      "|     12|fort bragg, calif...|NULL|           usa|    fort bragg|\n",
      "|     13|barcelona, barcel...|26.0|         spain|     barcelona|\n",
      "|     14|mediapolis, iowa,...|NULL|           usa|    mediapolis|\n",
      "|     15|calgary, alberta,...|NULL|        canada|       calgary|\n",
      "|     16|albuquerque, new ...|NULL|           usa|   albuquerque|\n",
      "|     17|chesapeake, virgi...|NULL|           usa|    chesapeake|\n",
      "|     18|rio de janeiro, r...|25.0|        brazil|rio de janeiro|\n",
      "|     19|           weston, ,|14.0|              |        weston|\n",
      "|     20|langhorne, pennsy...|19.0|           usa|     langhorne|\n",
      "+-------+--------------------+----+--------------+--------------+\n",
      "only showing top 20 rows\n",
      "\n"
     ]
    },
    {
     "name": "stderr",
     "output_type": "stream",
     "text": [
      "                                                                                \r"
     ]
    }
   ],
   "source": [
    "# Show the result\n",
    "users.show()"
   ]
  },
  {
   "cell_type": "code",
   "execution_count": 13,
   "id": "78254647",
   "metadata": {},
   "outputs": [
    {
     "name": "stderr",
     "output_type": "stream",
     "text": [
      "                                                                                \r"
     ]
    },
    {
     "data": {
      "text/plain": [
       "278859"
      ]
     },
     "execution_count": 13,
     "metadata": {},
     "output_type": "execute_result"
    }
   ],
   "source": [
    "users.count()"
   ]
  },
  {
   "cell_type": "code",
   "execution_count": 14,
   "id": "461e2b2e",
   "metadata": {},
   "outputs": [
    {
     "name": "stderr",
     "output_type": "stream",
     "text": [
      "                                                                                \r"
     ]
    }
   ],
   "source": [
    "users.write.format(\"com.mongodb.spark.sql.DefaultSource\") \\\n",
    "    .option(\"uri\", sec.connect_string) \\\n",
    "    .option(\"database\", \"bookdb\") \\\n",
    "    .option(\"collection\", \"users\") \\\n",
    "    .mode(\"append\").save()"
   ]
  },
  {
   "cell_type": "code",
   "execution_count": null,
   "id": "c44f56f2",
   "metadata": {},
   "outputs": [],
   "source": []
  }
 ],
 "metadata": {
  "kernelspec": {
   "display_name": "Python [conda env:csgy-6513d-fall2023]",
   "language": "python",
   "name": "conda-env-csgy-6513d-fall2023-py"
  },
  "language_info": {
   "codemirror_mode": {
    "name": "ipython",
    "version": 3
   },
   "file_extension": ".py",
   "mimetype": "text/x-python",
   "name": "python",
   "nbconvert_exporter": "python",
   "pygments_lexer": "ipython3",
   "version": "3.9.18"
  }
 },
 "nbformat": 4,
 "nbformat_minor": 5
}
